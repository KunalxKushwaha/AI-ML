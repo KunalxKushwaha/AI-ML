{
 "cells": [
  {
   "cell_type": "markdown",
   "id": "1bbb8b6c-8ffa-482b-ba3b-2dfbaac92e8b",
   "metadata": {},
   "source": [
    "Operators :-\n",
    "1. Arithematic\n",
    "2. Assignment\n",
    "3. Comparison\n",
    "4. Logical\n",
    "5. Identity\n",
    "6. Member"
   ]
  },
  {
   "cell_type": "markdown",
   "id": "5c303365-482e-437d-936e-64667a191880",
   "metadata": {},
   "source": [
    "1. Arithematic"
   ]
  },
  {
   "cell_type": "code",
   "execution_count": 10,
   "id": "3356ec54-11a1-45d5-8e92-6431c33e396c",
   "metadata": {},
   "outputs": [
    {
     "name": "stdout",
     "output_type": "stream",
     "text": [
      "Sum is: 30\n",
      "Difference is: 10\n",
      "200\n",
      "2.0\n",
      "10240000000000\n",
      "0\n"
     ]
    }
   ],
   "source": [
    "num_1 = 20\n",
    "num = 10\n",
    "# addition\n",
    "sum = num_1 + num\n",
    "print(\"Sum is:\",sum)\n",
    "\n",
    "#Subtraction\n",
    "diff = num_1-num\n",
    "print(\"Difference is:\", diff)\n",
    "\n",
    "#Multiplication\n",
    "pro = num_1 * num\n",
    "print(pro)\n",
    "\n",
    "# Division\n",
    "div = num_1 / num\n",
    "print(div)\n",
    "\n",
    "# Exponent\n",
    "exp = num_1 ** num\n",
    "print(exp)\n",
    "\n",
    "# Modulus\n",
    "\n",
    "mod = num_1 % num\n",
    "print(mod)"
   ]
  },
  {
   "cell_type": "markdown",
   "id": "8d6590d2-46d3-41d9-8168-5211e7fa0e9f",
   "metadata": {},
   "source": [
    "   2. Assignment:- \n",
    " +=\n",
    " -=\n",
    " *=\n",
    " /=\n",
    " %=\n",
    " **="
   ]
  },
  {
   "cell_type": "code",
   "execution_count": 15,
   "id": "cb4dcffe-11c5-4f47-85f8-76dc17eeb5af",
   "metadata": {},
   "outputs": [
    {
     "name": "stdout",
     "output_type": "stream",
     "text": [
      "10\n",
      "8\n"
     ]
    }
   ],
   "source": [
    "a = 5\n",
    "b=10\n",
    "a+= 5\n",
    "print(a)\n",
    "b -= 2\n",
    "print(b)"
   ]
  },
  {
   "cell_type": "markdown",
   "id": "3f1c4c82-1d21-4c50-bc8b-051134f94ff1",
   "metadata": {},
   "source": [
    "Comparison"
   ]
  },
  {
   "cell_type": "code",
   "execution_count": 19,
   "id": "56eadf43-32de-4aa1-9d8a-5c6dc86b0fc3",
   "metadata": {},
   "outputs": [
    {
     "name": "stdout",
     "output_type": "stream",
     "text": [
      "False\n",
      "True\n",
      "False\n",
      "True\n"
     ]
    }
   ],
   "source": [
    "a= 5\n",
    "b= 10\n",
    "print(a == b)\n",
    "print(a!=b)\n",
    "print(a>b)\n",
    "print(a<=b)"
   ]
  },
  {
   "cell_type": "markdown",
   "id": "2e7af349-f956-4975-99d5-a217bbfa9563",
   "metadata": {},
   "source": [
    "    4.Logical\n",
    " and\n",
    " or\n",
    " not"
   ]
  },
  {
   "cell_type": "code",
   "execution_count": 25,
   "id": "61bbfb46-9db7-409a-be78-437dec5f8dd0",
   "metadata": {},
   "outputs": [
    {
     "name": "stdout",
     "output_type": "stream",
     "text": [
      "True\n",
      "False\n",
      "True\n"
     ]
    }
   ],
   "source": [
    "a=10\n",
    "print(a>20 or a >5)\n",
    "print(a>20 and a >5)\n",
    "print(not(a>5 and a>20))"
   ]
  },
  {
   "cell_type": "markdown",
   "id": "8b69278d-2311-4b14-864b-b747b00a40e6",
   "metadata": {},
   "source": [
    "    5.Identity\n",
    "is\n",
    "isnot"
   ]
  },
  {
   "cell_type": "code",
   "execution_count": 28,
   "id": "a0b3d5e8-9c47-4777-8759-cf2cf7118b40",
   "metadata": {},
   "outputs": [
    {
     "name": "stdout",
     "output_type": "stream",
     "text": [
      "True\n"
     ]
    }
   ],
   "source": [
    "x=10\n",
    "y=5\n",
    "print(x is not y)"
   ]
  },
  {
   "cell_type": "markdown",
   "id": "0efd71c8-e3ce-4140-a3d1-012fbb2abd78",
   "metadata": {},
   "source": [
    "    6. MemberShip\n",
    "in\n",
    "not in"
   ]
  },
  {
   "cell_type": "code",
   "execution_count": 31,
   "id": "9b70c106-2330-403a-b7c5-dfd15fc85432",
   "metadata": {},
   "outputs": [
    {
     "name": "stdout",
     "output_type": "stream",
     "text": [
      "True\n",
      "False\n"
     ]
    }
   ],
   "source": [
    "a =5\n",
    "b=10\n",
    "c = [1,2,3,4,5]\n",
    "\n",
    "print(a  in c)\n",
    "print(b  in c )"
   ]
  }
 ],
 "metadata": {
  "kernelspec": {
   "display_name": "Python 3 (ipykernel)",
   "language": "python",
   "name": "python3"
  },
  "language_info": {
   "codemirror_mode": {
    "name": "ipython",
    "version": 3
   },
   "file_extension": ".py",
   "mimetype": "text/x-python",
   "name": "python",
   "nbconvert_exporter": "python",
   "pygments_lexer": "ipython3",
   "version": "3.13.5"
  }
 },
 "nbformat": 4,
 "nbformat_minor": 5
}
