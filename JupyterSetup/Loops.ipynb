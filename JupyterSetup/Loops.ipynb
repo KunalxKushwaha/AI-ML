{
 "cells": [
  {
   "cell_type": "markdown",
   "metadata": {
    "id": "l169EevJ4PYv"
   },
   "source": [
    "For loop"
   ]
  },
  {
   "cell_type": "code",
   "execution_count": null,
   "metadata": {
    "colab": {
     "base_uri": "https://localhost:8080/"
    },
    "id": "uy9loXNN3yon",
    "outputId": "2754a351-7c82-42db-f525-70b101937bfd"
   },
   "outputs": [
    {
     "name": "stdout",
     "output_type": "stream",
     "text": [
      "Enter the price of the laptop : 20000\n",
      "Enter the price of the laptop : 30000\n",
      "Enter the price of the laptop : 40000\n",
      "Enter the price of the laptop : 50000\n",
      "Enter the price of the laptop : 60000\n"
     ]
    }
   ],
   "source": [
    "laptop1 = int(input('Enter the price of the laptop : '))\n",
    "laptop2 = int(input('Enter the price of the laptop : '))\n",
    "laptop3 = int(input('Enter the price of the laptop : '))\n",
    "laptop4 = int(input('Enter the price of the laptop : '))\n",
    "laptop5 = int(input('Enter the price of the laptop : '))"
   ]
  },
  {
   "cell_type": "code",
   "execution_count": 1,
   "metadata": {
    "colab": {
     "base_uri": "https://localhost:8080/"
    },
    "id": "W0YAxl-e4XfP",
    "outputId": "56f97315-444b-4618-b15c-5f177c795bd7"
   },
   "outputs": [
    {
     "name": "stdin",
     "output_type": "stream",
     "text": [
      "Enter the price of the laptop :  25\n",
      "Enter the price of the laptop :  56\n",
      "Enter the price of the laptop :  78\n",
      "Enter the price of the laptop :  51\n",
      "Enter the price of the laptop :  515\n"
     ]
    }
   ],
   "source": [
    "for i in range(5):    # 0,1,2,3,4\n",
    "  laptop_price = int(input('Enter the price of the laptop : '))"
   ]
  },
  {
   "cell_type": "code",
   "execution_count": null,
   "metadata": {
    "colab": {
     "base_uri": "https://localhost:8080/"
    },
    "id": "-9bvL0U_5QnH",
    "outputId": "89a12700-fe97-4870-8ebe-5ad59de4c9ed"
   },
   "outputs": [
    {
     "name": "stdout",
     "output_type": "stream",
     "text": [
      "50\n",
      "100\n",
      "150\n",
      "200\n"
     ]
    }
   ],
   "source": [
    "# Simple printing a single number from a list\n",
    "numbers = [50, 100, 150, 200]\n",
    "\n",
    "print(numbers[0])\n",
    "print(numbers[1])\n",
    "print(numbers[2])\n",
    "print(numbers[3])"
   ]
  },
  {
   "cell_type": "code",
   "execution_count": null,
   "metadata": {
    "colab": {
     "base_uri": "https://localhost:8080/"
    },
    "id": "I2OmCKt_6J3g",
    "outputId": "9d248bca-1edd-4605-a195-4b5c7c9fee63"
   },
   "outputs": [
    {
     "name": "stdout",
     "output_type": "stream",
     "text": [
      "50\n",
      "100\n",
      "150\n",
      "200\n"
     ]
    }
   ],
   "source": [
    "# Printing single number from the list using loop\n",
    "numbers = [50, 100, 150, 200]\n",
    "\n",
    "for i in numbers:\n",
    "  print(i)"
   ]
  },
  {
   "cell_type": "markdown",
   "metadata": {
    "id": "LZw0F_Ga6aeC"
   },
   "source": [
    "While Loop"
   ]
  },
  {
   "cell_type": "markdown",
   "metadata": {
    "id": "mjmPzJiV6src"
   },
   "source": [
    "while condition:\n",
    "\n",
    "    statement\n",
    "    increament/decreament"
   ]
  },
  {
   "cell_type": "code",
   "execution_count": null,
   "metadata": {
    "colab": {
     "base_uri": "https://localhost:8080/"
    },
    "id": "7UCze9SW6RO6",
    "outputId": "f8ae520b-14bd-47aa-fd6d-7870824a84c5"
   },
   "outputs": [
    {
     "name": "stdout",
     "output_type": "stream",
     "text": [
      "0\n",
      "1\n",
      "2\n",
      "3\n",
      "4\n",
      "5\n",
      "6\n",
      "7\n",
      "8\n",
      "9\n"
     ]
    }
   ],
   "source": [
    "i = 0\n",
    "\n",
    "while i<10:\n",
    "  print(i)\n",
    "  i += 1"
   ]
  },
  {
   "cell_type": "code",
   "execution_count": 5,
   "metadata": {
    "id": "5aYvGqVj7Lxw"
   },
   "outputs": [],
   "source": [
    "i = 5\n",
    "\n",
    "while i<3:\n",
    "  print(i)\n",
    "  i +=1"
   ]
  }
 ],
 "metadata": {
  "colab": {
   "provenance": []
  },
  "kernelspec": {
   "display_name": "Python 3 (ipykernel)",
   "language": "python",
   "name": "python3"
  },
  "language_info": {
   "codemirror_mode": {
    "name": "ipython",
    "version": 3
   },
   "file_extension": ".py",
   "mimetype": "text/x-python",
   "name": "python",
   "nbconvert_exporter": "python",
   "pygments_lexer": "ipython3",
   "version": "3.13.5"
  }
 },
 "nbformat": 4,
 "nbformat_minor": 4
}
