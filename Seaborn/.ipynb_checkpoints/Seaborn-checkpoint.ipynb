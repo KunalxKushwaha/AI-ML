{
 "cells": [
  {
   "cell_type": "markdown",
   "id": "4652ef9b-dbe0-4603-b314-42412114ade9",
   "metadata": {},
   "source": [
    "# Seaborn:\n",
    "Data Visualization Library."
   ]
  },
  {
   "cell_type": "code",
   "execution_count": null,
   "id": "f92cd55f-74a3-47b3-87a8-4063dae81adf",
   "metadata": {},
   "outputs": [],
   "source": []
  }
 ],
 "metadata": {
  "kernelspec": {
   "display_name": "Python 3 (ipykernel)",
   "language": "python",
   "name": "python3"
  },
  "language_info": {
   "codemirror_mode": {
    "name": "ipython",
    "version": 3
   },
   "file_extension": ".py",
   "mimetype": "text/x-python",
   "name": "python",
   "nbconvert_exporter": "python",
   "pygments_lexer": "ipython3",
   "version": "3.13.5"
  }
 },
 "nbformat": 4,
 "nbformat_minor": 5
}
