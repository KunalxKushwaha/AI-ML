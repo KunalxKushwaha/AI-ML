{
 "cells": [
  {
   "cell_type": "markdown",
   "id": "57d0ae56-de8c-4c1d-a45e-01782c5f9179",
   "metadata": {},
   "source": [
    "Pandas Library:-<br>\n",
    "Useful for data processing and analysis.<br>\n",
    "\n",
    "Pandas data frame:<br>\n",
    "Pandas data frame is a 2D Tabular data structure with labellled axes of rows and columns."
   ]
  },
  {
   "cell_type": "code",
   "execution_count": 2,
   "id": "5baef8a3-2058-4326-861c-67e3e058d171",
   "metadata": {},
   "outputs": [],
   "source": [
    "# Importing the Pandas Library\n",
    "import pandas as pd"
   ]
  },
  {
   "cell_type": "markdown",
   "id": "fae11f7b-4f95-4f02-bbed-54780628adbf",
   "metadata": {},
   "source": [
    "# Creating pandas dataframe"
   ]
  },
  {
   "cell_type": "code",
   "execution_count": 5,
   "id": "9fe457b0-ee7d-4d0a-a70e-d5b79d78e353",
   "metadata": {},
   "outputs": [],
   "source": [
    "# Importing the California house price data\n",
    "from sklearn.datasets import fetch_california_housing"
   ]
  },
  {
   "cell_type": "code",
   "execution_count": 8,
   "id": "e2350567-c517-408a-b231-378c3e64d781",
   "metadata": {},
   "outputs": [],
   "source": [
    "california_data = fetch_california_housing()"
   ]
  },
  {
   "cell_type": "code",
   "execution_count": 9,
   "id": "d10c0683-091e-4f35-9b98-b255171e073b",
   "metadata": {},
   "outputs": [
    {
     "data": {
      "text/plain": [
       "sklearn.utils._bunch.Bunch"
      ]
     },
     "execution_count": 9,
     "metadata": {},
     "output_type": "execute_result"
    }
   ],
   "source": [
    "type(california_data)"
   ]
  },
  {
   "cell_type": "code",
   "execution_count": null,
   "id": "24b94e55-1308-43be-b0ba-f8968b05dab4",
   "metadata": {},
   "outputs": [],
   "source": []
  }
 ],
 "metadata": {
  "kernelspec": {
   "display_name": "Python 3 (ipykernel)",
   "language": "python",
   "name": "python3"
  },
  "language_info": {
   "codemirror_mode": {
    "name": "ipython",
    "version": 3
   },
   "file_extension": ".py",
   "mimetype": "text/x-python",
   "name": "python",
   "nbconvert_exporter": "python",
   "pygments_lexer": "ipython3",
   "version": "3.13.5"
  }
 },
 "nbformat": 4,
 "nbformat_minor": 5
}
